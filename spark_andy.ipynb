{
 "cells": [
  {
   "cell_type": "code",
   "execution_count": 56,
   "metadata": {
    "collapsed": false
   },
   "outputs": [],
   "source": [
    "from pyspark.sql.functions import *\n",
    "from pyspark.sql.functions import udf\n",
    "from pyspark.sql.types import IntegerType\n",
    "from operator import add\n",
    "df_original = spark.read.csv('data/flights.csv', header=True, inferSchema=True)\n",
    "df=df_original.select('*')"
   ]
  },
  {
   "cell_type": "code",
   "execution_count": 57,
   "metadata": {
    "collapsed": true
   },
   "outputs": [],
   "source": [
    "#import some Python packages that we need:\n",
    "from pyspark.sql import SQLContext\n",
    "from pyspark.sql.types import *\n",
    "from pyspark.sql import Row\n",
    "from pyspark.mllib.regression import LabeledPoint\n",
    "from pyspark.sql.functions import udf\n",
    "from pyspark.mllib.linalg import Vectors\n",
    "from pyspark.ml.classification import LogisticRegression\n",
    "from pyspark.ml.param import Param, Params\n",
    "from pyspark.mllib.classification import LogisticRegressionWithLBFGS, LogisticRegressionModel\n",
    "from pyspark.mllib.regression import LabeledPoint\n",
    "from pyspark.mllib.stat import Statistics\n",
    "from pyspark.ml.feature import OneHotEncoder, StringIndexer\n",
    "from pyspark.mllib.linalg import Vectors\n",
    "from pyspark.ml.feature import VectorAssembler\n",
    "from IPython.display import display\n",
    "from ipywidgets import interact\n",
    "import sys\n",
    "import numpy as np\n",
    "import pandas as pd\n",
    "import time\n",
    "import datetime"
   ]
  },
  {
   "cell_type": "code",
   "execution_count": 3,
   "metadata": {
    "collapsed": false
   },
   "outputs": [
    {
     "name": "stdout",
     "output_type": "stream",
     "text": [
      "root\n",
      " |-- YEAR: integer (nullable = true)\n",
      " |-- MONTH: integer (nullable = true)\n",
      " |-- DAY: integer (nullable = true)\n",
      " |-- DAY_OF_WEEK: integer (nullable = true)\n",
      " |-- AIRLINE: string (nullable = true)\n",
      " |-- FLIGHT_NUMBER: integer (nullable = true)\n",
      " |-- TAIL_NUMBER: string (nullable = true)\n",
      " |-- ORIGIN_AIRPORT: string (nullable = true)\n",
      " |-- DESTINATION_AIRPORT: string (nullable = true)\n",
      " |-- SCHEDULED_DEPARTURE: integer (nullable = true)\n",
      " |-- DEPARTURE_TIME: integer (nullable = true)\n",
      " |-- DEPARTURE_DELAY: integer (nullable = true)\n",
      " |-- TAXI_OUT: integer (nullable = true)\n",
      " |-- WHEELS_OFF: integer (nullable = true)\n",
      " |-- SCHEDULED_TIME: integer (nullable = true)\n",
      " |-- ELAPSED_TIME: integer (nullable = true)\n",
      " |-- AIR_TIME: integer (nullable = true)\n",
      " |-- DISTANCE: integer (nullable = true)\n",
      " |-- WHEELS_ON: integer (nullable = true)\n",
      " |-- TAXI_IN: integer (nullable = true)\n",
      " |-- SCHEDULED_ARRIVAL: integer (nullable = true)\n",
      " |-- ARRIVAL_TIME: integer (nullable = true)\n",
      " |-- ARRIVAL_DELAY: integer (nullable = true)\n",
      " |-- DIVERTED: integer (nullable = true)\n",
      " |-- CANCELLED: integer (nullable = true)\n",
      " |-- CANCELLATION_REASON: string (nullable = true)\n",
      " |-- AIR_SYSTEM_DELAY: integer (nullable = true)\n",
      " |-- SECURITY_DELAY: integer (nullable = true)\n",
      " |-- AIRLINE_DELAY: integer (nullable = true)\n",
      " |-- LATE_AIRCRAFT_DELAY: integer (nullable = true)\n",
      " |-- WEATHER_DELAY: integer (nullable = true)\n",
      "\n"
     ]
    }
   ],
   "source": [
    "df.printSchema()"
   ]
  },
  {
   "cell_type": "markdown",
   "metadata": {},
   "source": [
    "# 1. cleaning\n",
    "## 1.1 times and dates"
   ]
  },
  {
   "cell_type": "code",
   "execution_count": 2,
   "metadata": {
    "collapsed": false
   },
   "outputs": [
    {
     "name": "stdout",
     "output_type": "stream",
     "text": [
      "root\n",
      " |-- MONTH: integer (nullable = true)\n",
      " |-- DAY: integer (nullable = true)\n",
      " |-- DAY_OF_WEEK: integer (nullable = true)\n",
      " |-- AIRLINE: string (nullable = true)\n",
      " |-- FLIGHT_NUMBER: integer (nullable = true)\n",
      " |-- TAIL_NUMBER: string (nullable = true)\n",
      " |-- ORIGIN_AIRPORT: string (nullable = true)\n",
      " |-- DESTINATION_AIRPORT: string (nullable = true)\n",
      " |-- SCHEDULED_DEPARTURE: integer (nullable = true)\n",
      " |-- DEPARTURE_TIME: integer (nullable = true)\n",
      " |-- DEPARTURE_DELAY: integer (nullable = true)\n",
      " |-- TAXI_OUT: integer (nullable = true)\n",
      " |-- WHEELS_OFF: integer (nullable = true)\n",
      " |-- SCHEDULED_TIME: integer (nullable = true)\n",
      " |-- ELAPSED_TIME: integer (nullable = true)\n",
      " |-- AIR_TIME: integer (nullable = true)\n",
      " |-- DISTANCE: integer (nullable = true)\n",
      " |-- WHEELS_ON: integer (nullable = true)\n",
      " |-- TAXI_IN: integer (nullable = true)\n",
      " |-- SCHEDULED_ARRIVAL: integer (nullable = true)\n",
      " |-- ARRIVAL_TIME: integer (nullable = true)\n",
      " |-- ARRIVAL_DELAY: integer (nullable = true)\n",
      " |-- DIVERTED: integer (nullable = true)\n",
      " |-- CANCELLED: integer (nullable = true)\n",
      " |-- CANCELLATION_REASON: string (nullable = true)\n",
      " |-- AIR_SYSTEM_DELAY: integer (nullable = true)\n",
      " |-- SECURITY_DELAY: integer (nullable = true)\n",
      " |-- AIRLINE_DELAY: integer (nullable = true)\n",
      " |-- LATE_AIRCRAFT_DELAY: integer (nullable = true)\n",
      " |-- WEATHER_DELAY: integer (nullable = true)\n",
      "\n"
     ]
    }
   ],
   "source": [
    "df=df.drop(\"YEAR\")\n",
    "df.printSchema()"
   ]
  },
  {
   "cell_type": "code",
   "execution_count": 23,
   "metadata": {
    "collapsed": false
   },
   "outputs": [
    {
     "name": "stdout",
     "output_type": "stream",
     "text": [
      "[0, 31, 59, 90, 120, 151, 181, 212, 243, 273, 304, 334, 365]\n"
     ]
    }
   ],
   "source": [
    "months = [31,28,31,30,31,30,31,31,30,31,30,31]\n",
    "accu=0\n",
    "accu_months=[0]\n",
    "for element in months:\n",
    "    accu +=element\n",
    "    accu_months.append(accu)\n",
    "print accu_months"
   ]
  },
  {
   "cell_type": "code",
   "execution_count": 41,
   "metadata": {
    "collapsed": false
   },
   "outputs": [
    {
     "name": "stdout",
     "output_type": "stream",
     "text": [
      "+-------+\n",
      "|NEW_DAY|\n",
      "+-------+\n",
      "|      1|\n",
      "|      1|\n",
      "|      1|\n",
      "|      1|\n",
      "|      1|\n",
      "|      1|\n",
      "|      1|\n",
      "|      1|\n",
      "|      1|\n",
      "|      1|\n",
      "|      1|\n",
      "|      1|\n",
      "|      1|\n",
      "|      1|\n",
      "|      1|\n",
      "|      1|\n",
      "|      1|\n",
      "|      1|\n",
      "|      1|\n",
      "|      1|\n",
      "+-------+\n",
      "only showing top 20 rows\n",
      "\n"
     ]
    }
   ],
   "source": [
    "# add column \"NEW_DAY\"\n",
    "transform = udf(lambda month:accu_months[month-1],IntegerType())\n",
    "df=df.select('*',(transform(df['MONTH'])+df['DAY']).alias('NEW_DAY'))\n"
   ]
  },
  {
   "cell_type": "code",
   "execution_count": 42,
   "metadata": {
    "collapsed": false
   },
   "outputs": [
    {
     "name": "stdout",
     "output_type": "stream",
     "text": [
      "root\n",
      " |-- YEAR: integer (nullable = true)\n",
      " |-- DAY_OF_WEEK: integer (nullable = true)\n",
      " |-- AIRLINE: string (nullable = true)\n",
      " |-- FLIGHT_NUMBER: integer (nullable = true)\n",
      " |-- TAIL_NUMBER: string (nullable = true)\n",
      " |-- ORIGIN_AIRPORT: string (nullable = true)\n",
      " |-- DESTINATION_AIRPORT: string (nullable = true)\n",
      " |-- SCHEDULED_DEPARTURE: integer (nullable = true)\n",
      " |-- DEPARTURE_TIME: integer (nullable = true)\n",
      " |-- DEPARTURE_DELAY: integer (nullable = true)\n",
      " |-- TAXI_OUT: integer (nullable = true)\n",
      " |-- WHEELS_OFF: integer (nullable = true)\n",
      " |-- SCHEDULED_TIME: integer (nullable = true)\n",
      " |-- ELAPSED_TIME: integer (nullable = true)\n",
      " |-- AIR_TIME: integer (nullable = true)\n",
      " |-- DISTANCE: integer (nullable = true)\n",
      " |-- WHEELS_ON: integer (nullable = true)\n",
      " |-- TAXI_IN: integer (nullable = true)\n",
      " |-- SCHEDULED_ARRIVAL: integer (nullable = true)\n",
      " |-- ARRIVAL_TIME: integer (nullable = true)\n",
      " |-- ARRIVAL_DELAY: integer (nullable = true)\n",
      " |-- DIVERTED: integer (nullable = true)\n",
      " |-- CANCELLED: integer (nullable = true)\n",
      " |-- CANCELLATION_REASON: string (nullable = true)\n",
      " |-- AIR_SYSTEM_DELAY: integer (nullable = true)\n",
      " |-- SECURITY_DELAY: integer (nullable = true)\n",
      " |-- AIRLINE_DELAY: integer (nullable = true)\n",
      " |-- LATE_AIRCRAFT_DELAY: integer (nullable = true)\n",
      " |-- WEATHER_DELAY: integer (nullable = true)\n",
      " |-- NEW_DAY: integer (nullable = true)\n",
      "\n"
     ]
    }
   ],
   "source": [
    "# drop column MONTH and DAY\n",
    "df=df.drop('MONTH')\n",
    "df=df.drop('DAY')"
   ]
  },
  {
   "cell_type": "markdown",
   "metadata": {},
   "source": [
    "## 2 create labels for classification task"
   ]
  },
  {
   "cell_type": "code",
   "execution_count": 18,
   "metadata": {
    "collapsed": false
   },
   "outputs": [],
   "source": [
    "def transform_label_class_func(minutes):\n",
    "    if minutes<30:\n",
    "        return 1\n",
    "    if minutes>=30 and minutes <=120:\n",
    "        return 2\n",
    "    if minutes>120:\n",
    "        return 3\n",
    "\n",
    "transform_label_class = udf(lambda minutes:transform_label_class_func(minutes),IntegerType())\n",
    "temp=df.select((transform_label_class(df['DEPARTURE_DELAY'])).alias('label_class'))\n"
   ]
  },
  {
   "cell_type": "markdown",
   "metadata": {},
   "source": [
    "count the frequency of each class"
   ]
  },
  {
   "cell_type": "code",
   "execution_count": 24,
   "metadata": {
    "collapsed": false
   },
   "outputs": [
    {
     "name": "stdout",
     "output_type": "stream",
     "text": [
      "+-------+-------+\n",
      "|AIRLINE|  count|\n",
      "+-------+-------+\n",
      "|     UA| 515723|\n",
      "|     NK| 117379|\n",
      "|     AA| 725984|\n",
      "|     EV| 571977|\n",
      "|     B6| 267048|\n",
      "|     DL| 875881|\n",
      "|     OO| 588353|\n",
      "|     F9|  90836|\n",
      "|     US| 198715|\n",
      "|     MQ| 294632|\n",
      "|     HA|  76272|\n",
      "|     AS| 172521|\n",
      "|     VX|  61903|\n",
      "|     WN|1261855|\n",
      "+-------+-------+\n",
      "\n"
     ]
    }
   ],
   "source": [
    "df.groupBy('AIRLINE').count().show()"
   ]
  },
  {
   "cell_type": "code",
   "execution_count": 34,
   "metadata": {
    "collapsed": false
   },
   "outputs": [
    {
     "name": "stdout",
     "output_type": "stream",
     "text": [
      "+-------------------+-----+\n",
      "|DESTINATION_AIRPORT|count|\n",
      "+-------------------+-----+\n",
      "|                BGM|  264|\n",
      "|                INL|  574|\n",
      "|                PSE|  751|\n",
      "|                DLG|   77|\n",
      "|              12888|   53|\n",
      "|                MSY|38802|\n",
      "|                PPG|  107|\n",
      "|              12003|  190|\n",
      "|              15041|   62|\n",
      "|                GEG| 9504|\n",
      "|                SNA|37195|\n",
      "|                BUR|18890|\n",
      "|                GRB| 4883|\n",
      "|                GTF| 1966|\n",
      "|              14986|  306|\n",
      "|              13851| 1639|\n",
      "|                IDA| 2247|\n",
      "|              15412|  629|\n",
      "|              11150|  112|\n",
      "|                GRR|10840|\n",
      "+-------------------+-----+\n",
      "only showing top 20 rows\n",
      "\n"
     ]
    }
   ],
   "source": [
    "df.groupBy('DESTINATION_AIRPORT').count().show()"
   ]
  },
  {
   "cell_type": "code",
   "execution_count": 36,
   "metadata": {
    "collapsed": true
   },
   "outputs": [],
   "source": [
    "df_temp=df.select('*')"
   ]
  },
  {
   "cell_type": "code",
   "execution_count": 47,
   "metadata": {
    "collapsed": false
   },
   "outputs": [
    {
     "data": {
      "text/plain": [
       "628"
      ]
     },
     "execution_count": 47,
     "metadata": {},
     "output_type": "execute_result"
    }
   ],
   "source": [
    "df_temp.groupBy('ORIGIN_AIRPORT').count().count().show()"
   ]
  },
  {
   "cell_type": "code",
   "execution_count": 38,
   "metadata": {
    "collapsed": false
   },
   "outputs": [
    {
     "name": "stdout",
     "output_type": "stream",
     "text": [
      "+-----------------+-----+\n",
      "|        originVec|count|\n",
      "+-----------------+-----+\n",
      "| (628,[32],[1.0])|43172|\n",
      "| (628,[26],[1.0])|63906|\n",
      "|(628,[445],[1.0])|  282|\n",
      "|(628,[541],[1.0])|   88|\n",
      "| (628,[81],[1.0])|11058|\n",
      "| (628,[51],[1.0])|24118|\n",
      "|(628,[282],[1.0])| 1281|\n",
      "|(628,[336],[1.0])|  721|\n",
      "|(628,[542],[1.0])|   88|\n",
      "|(628,[474],[1.0])|  221|\n",
      "|(628,[146],[1.0])| 4746|\n",
      "|(628,[411],[1.0])|  460|\n",
      "|(628,[396],[1.0])|  532|\n",
      "|(628,[503],[1.0])|  159|\n",
      "|(628,[421],[1.0])|  399|\n",
      "|(628,[527],[1.0])|  116|\n",
      "|(628,[272],[1.0])| 1420|\n",
      "|(628,[406],[1.0])|  491|\n",
      "|(628,[549],[1.0])|   87|\n",
      "|(628,[137],[1.0])| 5261|\n",
      "+-----------------+-----+\n",
      "only showing top 20 rows\n",
      "\n"
     ]
    }
   ],
   "source": [
    "df_model=df_temp\n",
    "stringIndexer1 = StringIndexer(inputCol=\"ORIGIN_AIRPORT\", outputCol=\"originIndex\")\n",
    "model_stringIndexer = stringIndexer1.fit(df_model)\n",
    "indexedOrigin = model_stringIndexer.transform(df_model)\n",
    "encoder1 = OneHotEncoder(dropLast=False, inputCol=\"originIndex\", outputCol=\"originVec\")\n",
    "df_model = encoder1.transform(indexedOrigin)\n",
    "df_model.groupBy('originVec').count().show()"
   ]
  },
  {
   "cell_type": "code",
   "execution_count": 58,
   "metadata": {
    "collapsed": false
   },
   "outputs": [
    {
     "name": "stdout",
     "output_type": "stream",
     "text": [
      "Traceback (most recent call last):\n",
      "  File \"/tmp/kernel-PySpark-f6808e9c-cccc-4a3f-b66c-518bac8e97d3/pyspark_runner.py\", line 196, in <module>\n",
      "    output.reset()\n",
      "  File \"/home/andy/spark-2.2.0-bin-hadoop2.7/python/pyspark/sql/dataframe.py\", line 1020, in __getattr__\n",
      "    \"'%s' object has no attribute '%s'\" % (self.__class__.__name__, name))\n",
      "AttributeError: 'DataFrame' object has no attribute 'reset'\n"
     ]
    }
   ],
   "source": [
    "df_model=df_original.select('*')\n",
    "df_model=df_model.na.drop(how='any')\n",
    "stringIndexer1 = StringIndexer(inputCol='ORIGIN_AIRPORT', outputCol='originIndex')\n",
    "model_stringIndexer = stringIndexer1.fit(df_model)\n",
    "indexedOrigin = model_stringIndexer.transform(df_model)\n",
    "encoder1 = OneHotEncoder(dropLast=False, inputCol=\"originIndex\", outputCol=\"originVec\")\n",
    "df_model = encoder1.transform(indexedOrigin)\n",
    "\n",
    "assembler = VectorAssembler(\n",
    "    inputCols = ['MONTH','DAY','DAY_OF_WEEK','DEPARTURE_TIME','DISTANCE','originVec'],\n",
    "    outputCol = 'features')\n",
    "output = assembler.transform(df_model)\n",
    "#airlineRDD=output.map(lambda row: LabeledPoint([0,1][row['DEPARTURE_DELAY']],row['features']))"
   ]
  },
  {
   "cell_type": "code",
   "execution_count": null,
   "metadata": {
    "collapsed": true
   },
   "outputs": [],
   "source": []
  },
  {
   "cell_type": "code",
   "execution_count": null,
   "metadata": {
    "collapsed": true
   },
   "outputs": [],
   "source": []
  },
  {
   "cell_type": "code",
   "execution_count": null,
   "metadata": {
    "collapsed": true
   },
   "outputs": [],
   "source": []
  },
  {
   "cell_type": "code",
   "execution_count": null,
   "metadata": {
    "collapsed": true
   },
   "outputs": [],
   "source": []
  },
  {
   "cell_type": "code",
   "execution_count": null,
   "metadata": {
    "collapsed": true
   },
   "outputs": [],
   "source": []
  },
  {
   "cell_type": "code",
   "execution_count": null,
   "metadata": {
    "collapsed": true
   },
   "outputs": [],
   "source": []
  }
 ],
 "metadata": {
  "kernelspec": {
   "display_name": "Apache Toree - PySpark",
   "language": "python",
   "name": "apache_toree_pyspark"
  },
  "language_info": {
   "name": "scala",
   "version": "2.11.8"
  }
 },
 "nbformat": 4,
 "nbformat_minor": 2
}
