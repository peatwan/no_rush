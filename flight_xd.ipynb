{
 "cells": [
  {
   "cell_type": "code",
   "execution_count": 1,
   "metadata": {
    "collapsed": true
   },
   "outputs": [],
   "source": [
    "data=spark.read.csv('./data/flights.csv',header=True,inferSchema=True)\n",
    "# from pyspark.sql.functions import monotonically_increasing_irdf.na.drop().show()d \n",
    "# data = data.select(\"*\").withColumn(\"ID\", monotonically_increasing_id())"
   ]
  },
  {
   "cell_type": "code",
   "execution_count": 2,
   "metadata": {
    "scrolled": false
   },
   "outputs": [
    {
     "name": "stdout",
     "output_type": "stream",
     "text": [
      "root\n",
      " |-- YEAR: integer (nullable = true)\n",
      " |-- MONTH: integer (nullable = true)\n",
      " |-- DAY: integer (nullable = true)\n",
      " |-- DAY_OF_WEEK: integer (nullable = true)\n",
      " |-- AIRLINE: string (nullable = true)\n",
      " |-- FLIGHT_NUMBER: integer (nullable = true)\n",
      " |-- TAIL_NUMBER: string (nullable = true)\n",
      " |-- ORIGIN_AIRPORT: string (nullable = true)\n",
      " |-- DESTINATION_AIRPORT: string (nullable = true)\n",
      " |-- SCHEDULED_DEPARTURE: integer (nullable = true)\n",
      " |-- DEPARTURE_TIME: integer (nullable = true)\n",
      " |-- DEPARTURE_DELAY: integer (nullable = true)\n",
      " |-- TAXI_OUT: integer (nullable = true)\n",
      " |-- WHEELS_OFF: integer (nullable = true)\n",
      " |-- SCHEDULED_TIME: integer (nullable = true)\n",
      " |-- ELAPSED_TIME: integer (nullable = true)\n",
      " |-- AIR_TIME: integer (nullable = true)\n",
      " |-- DISTANCE: integer (nullable = true)\n",
      " |-- WHEELS_ON: integer (nullable = true)\n",
      " |-- TAXI_IN: integer (nullable = true)\n",
      " |-- SCHEDULED_ARRIVAL: integer (nullable = true)\n",
      " |-- ARRIVAL_TIME: integer (nullable = true)\n",
      " |-- ARRIVAL_DELAY: integer (nullable = true)\n",
      " |-- DIVERTED: integer (nullable = true)\n",
      " |-- CANCELLED: integer (nullable = true)\n",
      " |-- CANCELLATION_REASON: string (nullable = true)\n",
      " |-- AIR_SYSTEM_DELAY: integer (nullable = true)\n",
      " |-- SECURITY_DELAY: integer (nullable = true)\n",
      " |-- AIRLINE_DELAY: integer (nullable = true)\n",
      " |-- LATE_AIRCRAFT_DELAY: integer (nullable = true)\n",
      " |-- WEATHER_DELAY: integer (nullable = true)\n",
      "\n"
     ]
    }
   ],
   "source": [
    "data.printSchema()"
   ]
  },
  {
   "cell_type": "code",
   "execution_count": 16,
   "metadata": {},
   "outputs": [
    {
     "data": {
      "text/plain": [
       "5819079"
      ]
     },
     "execution_count": 16,
     "metadata": {},
     "output_type": "execute_result"
    }
   ],
   "source": [
    "# data=data.na.drop()\n",
    "# data.count()"
   ]
  },
  {
   "cell_type": "code",
   "execution_count": 2,
   "metadata": {},
   "outputs": [],
   "source": [
    "data1=data.drop('TAXI_OUT','TAXI_IN', 'WHEELS_ON', 'WHEELS_OFF', 'YEAR', \n",
    "                       \n",
    "                       'SECURITY_DELAY', 'AIRLINE_DELAY', 'LATE_AIRCRAFT_DELAY',\n",
    "                       'WEATHER_DELAY', 'DIVERTED', 'CANCELLED', 'CANCELLATION_REASON',\n",
    "                       'FLIGHT_NUMBER', 'TAIL_NUMBER', 'AIR_TIME','AIR_SYSTEM_DELAY')\n",
    "# drop na value\n",
    "data2=data1.na.drop()\n",
    "# data.count()"
   ]
  },
  {
   "cell_type": "code",
   "execution_count": 55,
   "metadata": {},
   "outputs": [
    {
     "name": "stdout",
     "output_type": "stream",
     "text": [
      "root\n",
      " |-- MONTH: integer (nullable = true)\n",
      " |-- DAY: integer (nullable = true)\n",
      " |-- DAY_OF_WEEK: integer (nullable = true)\n",
      " |-- AIRLINE: string (nullable = true)\n",
      " |-- ORIGIN_AIRPORT: string (nullable = true)\n",
      " |-- DESTINATION_AIRPORT: string (nullable = true)\n",
      " |-- SCHEDULED_DEPARTURE: integer (nullable = true)\n",
      " |-- DEPARTURE_TIME: integer (nullable = true)\n",
      " |-- DEPARTURE_DELAY: integer (nullable = true)\n",
      " |-- SCHEDULED_TIME: integer (nullable = true)\n",
      " |-- ELAPSED_TIME: integer (nullable = true)\n",
      " |-- DISTANCE: integer (nullable = true)\n",
      " |-- SCHEDULED_ARRIVAL: integer (nullable = true)\n",
      " |-- ARRIVAL_TIME: integer (nullable = true)\n",
      " |-- ARRIVAL_DELAY: integer (nullable = true)\n",
      "\n"
     ]
    }
   ],
   "source": [
    "data2.printSchema()"
   ]
  },
  {
   "cell_type": "code",
   "execution_count": 3,
   "metadata": {},
   "outputs": [],
   "source": [
    "#convert departure time to the number of minutes in a day\n",
    "# from pyspark import SparkContext\n",
    "# from pyspark.sql import SparkSession\n",
    "from pyspark.sql.functions import udf\n",
    "from pyspark.sql.types import IntegerType\n",
    "def convert(time):\n",
    "    min=time%100\n",
    "    h=int(time/100)\n",
    "    return h*60+min\n",
    "\n",
    "    \n",
    "time_converter=udf(lambda s:convert(s),IntegerType())\n",
    "data3=data2.select('*',time_converter(data2['SCHEDULED_DEPARTURE'])\\\n",
    "                 .alias('NEW_SCHEDULED_DEPARTURE'))\n",
    "                 \n",
    "# data.count()"
   ]
  },
  {
   "cell_type": "code",
   "execution_count": 4,
   "metadata": {},
   "outputs": [],
   "source": [
    "from pyspark.sql.types import IntegerType\n",
    "from operator import add\n",
    "#combine day and month:\n",
    "months = [31,28,31,30,31,30,31,31,30,31,30,31]\n",
    "accu=0\n",
    "accu_months=[0]\n",
    "for element in months:\n",
    "    accu +=element\n",
    "    accu_months.append(accu)\n",
    "transform = udf(lambda month:accu_months[month-1],IntegerType())\n",
    "\n",
    "# data=data.select('*',(transform(data['MONTH'])+data['DAY']).alias('NEW_DAY'))\n",
    "# data.withColumn('NEW_DAY',transform(data['MONTH'])+data['DAY'])\n",
    "\n",
    "data4=data3.select('*',(transform(data3['MONTH'])+data3['DAY'])\\\n",
    "            .alias('NEW_DAY'))\\\n",
    "#             .drop('MONTH')\\\n",
    "#             .drop('DAY')\n",
    "\n",
    "# data.count()"
   ]
  },
  {
   "cell_type": "code",
   "execution_count": 5,
   "metadata": {},
   "outputs": [],
   "source": [
    "data5=data4.drop('MONTH').drop('DAY').drop('SCHEDULED_DEPARTURE')\n",
    "# data=data.drop('DAY')\n",
    "# data=data.drop('SCHEDULED_DEPARTURE')\n",
    "# data.count()"
   ]
  },
  {
   "cell_type": "code",
   "execution_count": 63,
   "metadata": {},
   "outputs": [
    {
     "name": "stdout",
     "output_type": "stream",
     "text": [
      "root\n",
      " |-- DAY_OF_WEEK: integer (nullable = true)\n",
      " |-- AIRLINE: string (nullable = true)\n",
      " |-- ORIGIN_AIRPORT: string (nullable = true)\n",
      " |-- DESTINATION_AIRPORT: string (nullable = true)\n",
      " |-- DEPARTURE_TIME: integer (nullable = true)\n",
      " |-- DEPARTURE_DELAY: integer (nullable = true)\n",
      " |-- SCHEDULED_TIME: integer (nullable = true)\n",
      " |-- ELAPSED_TIME: integer (nullable = true)\n",
      " |-- DISTANCE: integer (nullable = true)\n",
      " |-- SCHEDULED_ARRIVAL: integer (nullable = true)\n",
      " |-- ARRIVAL_TIME: integer (nullable = true)\n",
      " |-- ARRIVAL_DELAY: integer (nullable = true)\n",
      " |-- NEW_SCHEDULED_DEPARTURE: integer (nullable = true)\n",
      " |-- NEW_DAY: integer (nullable = true)\n",
      "\n"
     ]
    },
    {
     "data": {
      "text/plain": [
       "5714008"
      ]
     },
     "execution_count": 63,
     "metadata": {},
     "output_type": "execute_result"
    }
   ],
   "source": [
    "data5.printSchema()\n",
    "# data5.select('NEW_SCHEDULED_DEPARTURE','NEW_DAY').head(10)\n",
    "# data5.count()"
   ]
  },
  {
   "cell_type": "code",
   "execution_count": null,
   "metadata": {
    "collapsed": true
   },
   "outputs": [],
   "source": [
    "from pyspark.sql.functions import col, size,length\n",
    "data6=data5.filter(length(data5['DESTINATION_AIRPORT']) <= 3)\n",
    "data7=data6.filter(length(data6['ORIGIN_AIRPORT']) <= 3\n",
    "data7.count()"
   ]
  },
  {
   "cell_type": "code",
   "execution_count": 49,
   "metadata": {
    "collapsed": true
   },
   "outputs": [],
   "source": [
    "# test_data=data.sample(False, 0.1,0)\n",
    "# train_data=data.select('*').filter('ID'!=test_data['ID'])\n",
    "\n",
    "train_data,test_data=data7.randomSplit((0.8,0.2), 0)"
   ]
  },
  {
   "cell_type": "code",
   "execution_count": 51,
   "metadata": {},
   "outputs": [
    {
     "name": "stdout",
     "output_type": "stream",
     "text": [
      "1045579\n",
      "4185551\n"
     ]
    }
   ],
   "source": [
    "# test_data.groupBy().avg(\"DEPARTURE_DELAY\").show()\n",
    "print(test_data.count())\n",
    "print(train_data.count())\n",
    "# test_data.sum('DEPARTURE_DELAY').show()"
   ]
  },
  {
   "cell_type": "code",
   "execution_count": 27,
   "metadata": {},
   "outputs": [
    {
     "name": "stdout",
     "output_type": "stream",
     "text": [
      "root\n",
      " |-- DAY_OF_WEEK: integer (nullable = true)\n",
      " |-- AIRLINE: string (nullable = true)\n",
      " |-- ORIGIN_AIRPORT: string (nullable = true)\n",
      " |-- DESTINATION_AIRPORT: string (nullable = true)\n",
      " |-- DEPARTURE_TIME: integer (nullable = true)\n",
      " |-- DEPARTURE_DELAY: integer (nullable = true)\n",
      " |-- SCHEDULED_TIME: integer (nullable = true)\n",
      " |-- ELAPSED_TIME: integer (nullable = true)\n",
      " |-- DISTANCE: integer (nullable = true)\n",
      " |-- SCHEDULED_ARRIVAL: integer (nullable = true)\n",
      " |-- ARRIVAL_TIME: integer (nullable = true)\n",
      " |-- ARRIVAL_DELAY: integer (nullable = true)\n",
      " |-- NEW_SCHEDULED_DEPARTURE: integer (nullable = true)\n",
      " |-- NEW_DAY: integer (nullable = true)\n",
      "\n"
     ]
    }
   ],
   "source": [
    "train_data.printSchema()"
   ]
  },
  {
   "cell_type": "code",
   "execution_count": 70,
   "metadata": {},
   "outputs": [
    {
     "name": "stdout",
     "output_type": "stream",
     "text": [
      "+--------------------+\n",
      "|avg(DEPARTURE_DELAY)|\n",
      "+--------------------+\n",
      "|   9.275051412092544|\n",
      "+--------------------+\n",
      "\n",
      "+--------------------+\n",
      "|avg(DEPARTURE_DELAY)|\n",
      "+--------------------+\n",
      "|   9.299786493931121|\n",
      "+--------------------+\n",
      "\n"
     ]
    }
   ],
   "source": [
    "test_data.groupBy().avg(\"DEPARTURE_DELAY\").show()\n",
    "train_data.groupBy().avg(\"DEPARTURE_DELAY\").show()\n",
    "\n"
   ]
  },
  {
   "cell_type": "code",
   "execution_count": 50,
   "metadata": {
    "collapsed": true
   },
   "outputs": [],
   "source": [
    "test_data.write.csv('./data/test_flight.csv',header=True,mode='overwrite')\n",
    "train_data.write.csv('./data/train_flight.csv',header=True,mode='overwrite')\n"
   ]
  },
  {
   "cell_type": "code",
   "execution_count": 61,
   "metadata": {
    "collapsed": true
   },
   "outputs": [],
   "source": [
    "data7.write.csv('./data/whole_flight_data.csv',header=True,mode='overwrite')"
   ]
  },
  {
   "cell_type": "markdown",
   "metadata": {},
   "source": [
    "## Start to analyze "
   ]
  },
  {
   "cell_type": "code",
   "execution_count": 52,
   "metadata": {},
   "outputs": [
    {
     "name": "stdout",
     "output_type": "stream",
     "text": [
      "root\n",
      " |-- DAY_OF_WEEK: integer (nullable = true)\n",
      " |-- AIRLINE: string (nullable = true)\n",
      " |-- ORIGIN_AIRPORT: string (nullable = true)\n",
      " |-- DESTINATION_AIRPORT: string (nullable = true)\n",
      " |-- DEPARTURE_TIME: integer (nullable = true)\n",
      " |-- DEPARTURE_DELAY: integer (nullable = true)\n",
      " |-- SCHEDULED_TIME: integer (nullable = true)\n",
      " |-- ELAPSED_TIME: integer (nullable = true)\n",
      " |-- DISTANCE: integer (nullable = true)\n",
      " |-- SCHEDULED_ARRIVAL: integer (nullable = true)\n",
      " |-- ARRIVAL_TIME: integer (nullable = true)\n",
      " |-- ARRIVAL_DELAY: integer (nullable = true)\n",
      " |-- NEW_SCHEDULED_DEPARTURE: integer (nullable = true)\n",
      " |-- NEW_DAY: integer (nullable = true)\n",
      "\n"
     ]
    }
   ],
   "source": [
    "data=spark.read.csv('./data/train_flight.csv',header=True,inferSchema=True)\n",
    "data.printSchema()"
   ]
  },
  {
   "cell_type": "code",
   "execution_count": 30,
   "metadata": {
    "collapsed": true
   },
   "outputs": [],
   "source": [
    "import matplotlib as plt\n",
    "import seaborn as sns\n",
    "import pandas as pd\n",
    "import matplotlib.pyplot as plt\n",
    "\n",
    "\n",
    "\n",
    "\n",
    "\n"
   ]
  },
  {
   "cell_type": "markdown",
   "metadata": {},
   "source": [
    "### Analysis: departure time and departure delay"
   ]
  },
  {
   "cell_type": "code",
   "execution_count": null,
   "metadata": {
    "collapsed": true
   },
   "outputs": [],
   "source": [
    "depTime_delay=data.select('schedule_departure','DEPARTURE_DELAY')\n",
    "\n",
    "depTime_delay_sample=depTime_delay.sample(False, 0.1,0).toPandas()"
   ]
  },
  {
   "cell_type": "code",
   "execution_count": 31,
   "metadata": {},
   "outputs": [
    {
     "data": {
      "image/png": "[encoded data removed]",
      "text/plain": [
       "<matplotlib.figure.Figure at 0x7f0284163ef0>"
      ]
     },
     "metadata": {},
     "output_type": "display_data"
    }
   ],
   "source": [
    "# factor = pd.cut(depTime_delay_sample['schedule_departure'], 24)\n",
    "# pd.value_counts(factor)\n",
    "depTime_delay_sample['factor']=pd.cut(depTime_delay_sample['schedule_departure'], 24)\n",
    "depTime_delay_sample.groupby(['factor'])['DEPARTURE_DELAY'].mean().plot.bar()\n",
    "plt.show()"
   ]
  },
  {
   "cell_type": "markdown",
   "metadata": {},
   "source": [
    "### Analysis: day in week and departure delay"
   ]
  },
  {
   "cell_type": "code",
   "execution_count": 32,
   "metadata": {
    "collapsed": true
   },
   "outputs": [],
   "source": [
    "week_delay=data.select('DAY_OF_WEEK','DEPARTURE_DELAY')\n",
    "\n",
    "week_delay_sample=week_delay.sample(False, 0.1,0).toPandas()\n"
   ]
  },
  {
   "cell_type": "code",
   "execution_count": 41,
   "metadata": {},
   "outputs": [
    {
     "data": {
      "image/png": "[encoded data removed]",
      "text/plain": [
       "<matplotlib.figure.Figure at 0x7f0284596cc0>"
      ]
     },
     "metadata": {},
     "output_type": "display_data"
    }
   ],
   "source": [
    "bins = [0, 5, 7]\n",
    "# week_delay_sample['isWeekend']=pd.cut(week_delay_sample['DAY_OF_WEEK'], bins,labels=['N','Y'])\n",
    "week_delay_sample.groupby(['DAY_OF_WEEK'])['DEPARTURE_DELAY'].mean().plot.bar()\n",
    "plt.show()"
   ]
  },
  {
   "cell_type": "markdown",
   "metadata": {},
   "source": [
    "### Analysis: day in year and departure delay"
   ]
  },
  {
   "cell_type": "code",
   "execution_count": 44,
   "metadata": {
    "collapsed": true
   },
   "outputs": [],
   "source": [
    "date_delay=data.select('NEW_DAY','DEPARTURE_DELAY')\n",
    "date_delay_sample=date_delay.sample(False, 0.1,0).toPandas()"
   ]
  },
  {
   "cell_type": "code",
   "execution_count": 60,
   "metadata": {},
   "outputs": [
    {
     "data": {
      "text/html": [
       "<div>\n",
       "<style>\n",
       "    .dataframe thead tr:only-child th {\n",
       "        text-align: right;\n",
       "    }\n",
       "\n",
       "    .dataframe thead th {\n",
       "        text-align: left;\n",
       "    }\n",
       "\n",
       "    .dataframe tbody tr th {\n",
       "        vertical-align: top;\n",
       "    }\n",
       "</style>\n",
       "<table border=\"1\" class=\"dataframe\">\n",
       "  <thead>\n",
       "    <tr style=\"text-align: right;\">\n",
       "      <th></th>\n",
       "      <th>NEW_DAY</th>\n",
       "      <th>mean</th>\n",
       "    </tr>\n",
       "  </thead>\n",
       "  <tbody>\n",
       "    <tr>\n",
       "      <th>362</th>\n",
       "      <td>363</td>\n",
       "      <td>32.236780</td>\n",
       "    </tr>\n",
       "    <tr>\n",
       "      <th>3</th>\n",
       "      <td>4</td>\n",
       "      <td>32.125687</td>\n",
       "    </tr>\n",
       "    <tr>\n",
       "      <th>360</th>\n",
       "      <td>361</td>\n",
       "      <td>31.909857</td>\n",
       "    </tr>\n",
       "    <tr>\n",
       "      <th>363</th>\n",
       "      <td>364</td>\n",
       "      <td>29.159271</td>\n",
       "    </tr>\n",
       "    <tr>\n",
       "      <th>361</th>\n",
       "      <td>362</td>\n",
       "      <td>29.083407</td>\n",
       "    </tr>\n",
       "    <tr>\n",
       "      <th>2</th>\n",
       "      <td>3</td>\n",
       "      <td>25.394889</td>\n",
       "    </tr>\n",
       "    <tr>\n",
       "      <th>5</th>\n",
       "      <td>6</td>\n",
       "      <td>25.342954</td>\n",
       "    </tr>\n",
       "    <tr>\n",
       "      <th>137</th>\n",
       "      <td>138</td>\n",
       "      <td>25.224313</td>\n",
       "    </tr>\n",
       "    <tr>\n",
       "      <th>59</th>\n",
       "      <td>60</td>\n",
       "      <td>24.326779</td>\n",
       "    </tr>\n",
       "    <tr>\n",
       "      <th>357</th>\n",
       "      <td>358</td>\n",
       "      <td>24.091083</td>\n",
       "    </tr>\n",
       "    <tr>\n",
       "      <th>231</th>\n",
       "      <td>232</td>\n",
       "      <td>23.869712</td>\n",
       "    </tr>\n",
       "    <tr>\n",
       "      <th>63</th>\n",
       "      <td>64</td>\n",
       "      <td>23.792705</td>\n",
       "    </tr>\n",
       "    <tr>\n",
       "      <th>198</th>\n",
       "      <td>199</td>\n",
       "      <td>23.544444</td>\n",
       "    </tr>\n",
       "    <tr>\n",
       "      <th>356</th>\n",
       "      <td>357</td>\n",
       "      <td>23.413160</td>\n",
       "    </tr>\n",
       "    <tr>\n",
       "      <th>165</th>\n",
       "      <td>166</td>\n",
       "      <td>23.109204</td>\n",
       "    </tr>\n",
       "    <tr>\n",
       "      <th>168</th>\n",
       "      <td>169</td>\n",
       "      <td>22.982156</td>\n",
       "    </tr>\n",
       "    <tr>\n",
       "      <th>98</th>\n",
       "      <td>99</td>\n",
       "      <td>22.341561</td>\n",
       "    </tr>\n",
       "    <tr>\n",
       "      <th>167</th>\n",
       "      <td>168</td>\n",
       "      <td>22.287136</td>\n",
       "    </tr>\n",
       "    <tr>\n",
       "      <th>46</th>\n",
       "      <td>47</td>\n",
       "      <td>21.428690</td>\n",
       "    </tr>\n",
       "    <tr>\n",
       "      <th>61</th>\n",
       "      <td>62</td>\n",
       "      <td>21.321335</td>\n",
       "    </tr>\n",
       "  </tbody>\n",
       "</table>\n",
       "</div>"
      ],
      "text/plain": [
       "     NEW_DAY       mean\n",
       "362      363  32.236780\n",
       "3          4  32.125687\n",
       "360      361  31.909857\n",
       "363      364  29.159271\n",
       "361      362  29.083407\n",
       "2          3  25.394889\n",
       "5          6  25.342954\n",
       "137      138  25.224313\n",
       "59        60  24.326779\n",
       "357      358  24.091083\n",
       "231      232  23.869712\n",
       "63        64  23.792705\n",
       "198      199  23.544444\n",
       "356      357  23.413160\n",
       "165      166  23.109204\n",
       "168      169  22.982156\n",
       "98        99  22.341561\n",
       "167      168  22.287136\n",
       "46        47  21.428690\n",
       "61        62  21.321335"
      ]
     },
     "execution_count": 60,
     "metadata": {},
     "output_type": "execute_result"
    }
   ],
   "source": [
    "date_avgDelay=date_delay_sample.groupby(['NEW_DAY'])['DEPARTURE_DELAY'].mean().reset_index(name='mean')\n",
    "date_avgDelay.sort_values(by=['mean'],ascending=False).head(20)"
   ]
  },
  {
   "cell_type": "markdown",
   "metadata": {},
   "source": [
    "### Analysis: distance and departure delay\n"
   ]
  },
  {
   "cell_type": "code",
   "execution_count": 22,
   "metadata": {
    "collapsed": true
   },
   "outputs": [],
   "source": [
    "distance_delay=data.select('DISTANCE','DEPARTURE_DELAY')\n",
    "distance_delay_sample=distance_delay.sample(False, 0.1,0).toPandas()"
   ]
  },
  {
   "cell_type": "code",
   "execution_count": 77,
   "metadata": {},
   "outputs": [
    {
     "data": {
      "image/png": "[encoded data removed]",
      "text/plain": [
       "<matplotlib.figure.Figure at 0x7f0283ffba90>"
      ]
     },
     "metadata": {},
     "output_type": "display_data"
    },
    {
     "data": {
      "text/html": [
       "<div>\n",
       "<style>\n",
       "    .dataframe thead tr:only-child th {\n",
       "        text-align: right;\n",
       "    }\n",
       "\n",
       "    .dataframe thead th {\n",
       "        text-align: left;\n",
       "    }\n",
       "\n",
       "    .dataframe tbody tr th {\n",
       "        vertical-align: top;\n",
       "    }\n",
       "</style>\n",
       "<table border=\"1\" class=\"dataframe\">\n",
       "  <thead>\n",
       "    <tr style=\"text-align: right;\">\n",
       "      <th></th>\n",
       "      <th>DISTANCE_INTERVAL</th>\n",
       "      <th>mean</th>\n",
       "    </tr>\n",
       "  </thead>\n",
       "  <tbody>\n",
       "    <tr>\n",
       "      <th>17</th>\n",
       "      <td>(4240.2, 4487.8]</td>\n",
       "      <td>29.735849</td>\n",
       "    </tr>\n",
       "    <tr>\n",
       "      <th>15</th>\n",
       "      <td>(3745.0, 3992.6]</td>\n",
       "      <td>14.991525</td>\n",
       "    </tr>\n",
       "    <tr>\n",
       "      <th>16</th>\n",
       "      <td>(3992.6, 4240.2]</td>\n",
       "      <td>12.307692</td>\n",
       "    </tr>\n",
       "    <tr>\n",
       "      <th>5</th>\n",
       "      <td>(1269.0, 1516.6]</td>\n",
       "      <td>11.526258</td>\n",
       "    </tr>\n",
       "    <tr>\n",
       "      <th>4</th>\n",
       "      <td>(1021.4, 1269.0]</td>\n",
       "      <td>10.999720</td>\n",
       "    </tr>\n",
       "    <tr>\n",
       "      <th>6</th>\n",
       "      <td>(1516.6, 1764.2]</td>\n",
       "      <td>10.941601</td>\n",
       "    </tr>\n",
       "    <tr>\n",
       "      <th>3</th>\n",
       "      <td>(773.8, 1021.4]</td>\n",
       "      <td>10.406810</td>\n",
       "    </tr>\n",
       "    <tr>\n",
       "      <th>13</th>\n",
       "      <td>(3249.8, 3497.4]</td>\n",
       "      <td>10.391892</td>\n",
       "    </tr>\n",
       "    <tr>\n",
       "      <th>18</th>\n",
       "      <td>(4487.8, 4735.4]</td>\n",
       "      <td>10.039216</td>\n",
       "    </tr>\n",
       "    <tr>\n",
       "      <th>9</th>\n",
       "      <td>(2259.4, 2507.0]</td>\n",
       "      <td>9.942630</td>\n",
       "    </tr>\n",
       "    <tr>\n",
       "      <th>14</th>\n",
       "      <td>(3497.4, 3745.0]</td>\n",
       "      <td>9.697674</td>\n",
       "    </tr>\n",
       "    <tr>\n",
       "      <th>8</th>\n",
       "      <td>(2011.8, 2259.4]</td>\n",
       "      <td>9.403793</td>\n",
       "    </tr>\n",
       "    <tr>\n",
       "      <th>7</th>\n",
       "      <td>(1764.2, 2011.8]</td>\n",
       "      <td>9.251904</td>\n",
       "    </tr>\n",
       "    <tr>\n",
       "      <th>10</th>\n",
       "      <td>(2507.0, 2754.6]</td>\n",
       "      <td>9.203715</td>\n",
       "    </tr>\n",
       "    <tr>\n",
       "      <th>2</th>\n",
       "      <td>(526.2, 773.8]</td>\n",
       "      <td>9.188141</td>\n",
       "    </tr>\n",
       "    <tr>\n",
       "      <th>1</th>\n",
       "      <td>(278.6, 526.2]</td>\n",
       "      <td>8.463372</td>\n",
       "    </tr>\n",
       "    <tr>\n",
       "      <th>12</th>\n",
       "      <td>(3002.2, 3249.8]</td>\n",
       "      <td>7.937500</td>\n",
       "    </tr>\n",
       "    <tr>\n",
       "      <th>0</th>\n",
       "      <td>(26.048, 278.6]</td>\n",
       "      <td>7.295734</td>\n",
       "    </tr>\n",
       "    <tr>\n",
       "      <th>19</th>\n",
       "      <td>(4735.4, 4983.0]</td>\n",
       "      <td>6.586957</td>\n",
       "    </tr>\n",
       "    <tr>\n",
       "      <th>11</th>\n",
       "      <td>(2754.6, 3002.2]</td>\n",
       "      <td>4.344430</td>\n",
       "    </tr>\n",
       "  </tbody>\n",
       "</table>\n",
       "</div>"
      ],
      "text/plain": [
       "   DISTANCE_INTERVAL       mean\n",
       "17  (4240.2, 4487.8]  29.735849\n",
       "15  (3745.0, 3992.6]  14.991525\n",
       "16  (3992.6, 4240.2]  12.307692\n",
       "5   (1269.0, 1516.6]  11.526258\n",
       "4   (1021.4, 1269.0]  10.999720\n",
       "6   (1516.6, 1764.2]  10.941601\n",
       "3    (773.8, 1021.4]  10.406810\n",
       "13  (3249.8, 3497.4]  10.391892\n",
       "18  (4487.8, 4735.4]  10.039216\n",
       "9   (2259.4, 2507.0]   9.942630\n",
       "14  (3497.4, 3745.0]   9.697674\n",
       "8   (2011.8, 2259.4]   9.403793\n",
       "7   (1764.2, 2011.8]   9.251904\n",
       "10  (2507.0, 2754.6]   9.203715\n",
       "2     (526.2, 773.8]   9.188141\n",
       "1     (278.6, 526.2]   8.463372\n",
       "12  (3002.2, 3249.8]   7.937500\n",
       "0    (26.048, 278.6]   7.295734\n",
       "19  (4735.4, 4983.0]   6.586957\n",
       "11  (2754.6, 3002.2]   4.344430"
      ]
     },
     "execution_count": 77,
     "metadata": {},
     "output_type": "execute_result"
    }
   ],
   "source": [
    "distance_delay_sample['DISTANCE_INTERVAL']=pd.cut(distance_delay_sample['DISTANCE'], 20)\n",
    "distance_avgDelay=distance_delay_sample.groupby(['DISTANCE_INTERVAL'])['DEPARTURE_DELAY'].mean().reset_index(name='mean')\n",
    "distance_avgDelay.plot.bar()\n",
    "plt.show()\n",
    "\n",
    "distance_avgDelay.sort_values(by=['mean'],ascending=False).head(20)\n"
   ]
  },
  {
   "cell_type": "markdown",
   "metadata": {},
   "source": [
    "### Analysis: origin airport and departure delay"
   ]
  },
  {
   "cell_type": "code",
   "execution_count": 54,
   "metadata": {
    "collapsed": true
   },
   "outputs": [],
   "source": [
    "airport_delay=data.select('ORIGIN_AIRPORT','DESTINATION_AIRPORT','DEPARTURE_DELAY')\n",
    "airport_delay_sample=airport_delay.sample(False, 0.1,0).toPandas()"
   ]
  },
  {
   "cell_type": "code",
   "execution_count": 55,
   "metadata": {
    "collapsed": true
   },
   "outputs": [],
   "source": [
    "airport_avgDelay=airport_delay_sample.groupby(['ORIGIN_AIRPORT','DESTINATION_AIRPORT'])['DEPARTURE_DELAY'].mean().reset_index(name='mean')\n"
   ]
  },
  {
   "cell_type": "code",
   "execution_count": 57,
   "metadata": {},
   "outputs": [
    {
     "data": {
      "image/png": "[encoded data removed]",
      "text/plain": [
       "<matplotlib.figure.Figure at 0x7fca94d929d0>"
      ]
     },
     "metadata": {},
     "output_type": "display_data"
    },
    {
     "data": {
      "image/png": "[encoded data removed]",
      "text/plain": [
       "<matplotlib.figure.Figure at 0x7fca94d92210>"
      ]
     },
     "metadata": {},
     "output_type": "display_data"
    }
   ],
   "source": [
    "airport_avgDelay.plot.bar()\n",
    "# plt.savefig('./figures/airport_delay.png',dpi=200)\n",
    "plt.show()\n",
    "# airport_avgDelay.count()"
   ]
  },
  {
   "cell_type": "code",
   "execution_count": 59,
   "metadata": {},
   "outputs": [
    {
     "name": "stdout",
     "output_type": "stream",
     "text": [
      "+-------------------+-----+\n",
      "|DESTINATION_AIRPORT|count|\n",
      "+-------------------+-----+\n",
      "|                ITH|   28|\n",
      "|                AKN|   49|\n",
      "|                STC|   54|\n",
      "|                GST|   55|\n",
      "|                HYA|   62|\n",
      "|                DLG|   64|\n",
      "|                ILG|   70|\n",
      "|                ADK|   72|\n",
      "|                PPG|   88|\n",
      "|                MMH|  113|\n",
      "|                UST|  127|\n",
      "|                CEC|  140|\n",
      "|                VEL|  158|\n",
      "|                MVY|  161|\n",
      "|                CNY|  162|\n",
      "|                WYS|  163|\n",
      "|                BGM|  203|\n",
      "|                PUB|  212|\n",
      "|                OTH|  214|\n",
      "|                PBG|  231|\n",
      "+-------------------+-----+\n",
      "only showing top 20 rows\n",
      "\n",
      "+--------------+-----+\n",
      "|ORIGIN_AIRPORT|count|\n",
      "+--------------+-----+\n",
      "|           ITH|   26|\n",
      "|           AKN|   49|\n",
      "|           DLG|   62|\n",
      "|           STC|   64|\n",
      "|           GST|   65|\n",
      "|           HYA|   69|\n",
      "|           ILG|   71|\n",
      "|           ADK|   75|\n",
      "|           PPG|   79|\n",
      "|           UST|  114|\n",
      "|           MMH|  116|\n",
      "|           CEC|  141|\n",
      "|           WYS|  159|\n",
      "|           CNY|  161|\n",
      "|           MVY|  167|\n",
      "|           VEL|  172|\n",
      "|           BGM|  202|\n",
      "|           OTH|  203|\n",
      "|           PUB|  212|\n",
      "|           PBG|  218|\n",
      "+--------------+-----+\n",
      "only showing top 20 rows\n",
      "\n"
     ]
    }
   ],
   "source": [
    "data.groupby('DESTINATION_AIRPORT').count().sort('count').show()\n",
    "data.groupby('ORIGIN_AIRPORT').count().sort('count').show()"
   ]
  },
  {
   "cell_type": "markdown",
   "metadata": {},
   "source": [
    "### Analysis: airline and departure delay"
   ]
  },
  {
   "cell_type": "code",
   "execution_count": 19,
   "metadata": {
    "collapsed": true
   },
   "outputs": [],
   "source": [
    "airline_delay=data.select('AIRLINE','DEPARTURE_DELAY')\n",
    "airline_delay_sample=airline_delay.sample(False, 0.1,0).toPandas()"
   ]
  },
  {
   "cell_type": "code",
   "execution_count": 21,
   "metadata": {
    "collapsed": true
   },
   "outputs": [],
   "source": [
    "airline_avgDelay=airline_delay_sample.groupby('AIRLINE')['DEPARTURE_DELAY'].mean().reset_index(name='mean')"
   ]
  },
  {
   "cell_type": "code",
   "execution_count": 22,
   "metadata": {},
   "outputs": [
    {
     "data": {
      "image/png": "[encoded data removed]",
      "text/plain": [
       "<matplotlib.figure.Figure at 0x7fd795abf490>"
      ]
     },
     "metadata": {},
     "output_type": "display_data"
    }
   ],
   "source": [
    "airline_avgDelay.plot.bar()\n",
    "# plt.savefig('./figures/airline_delay.png',dpi=200)\n",
    "plt.show()"
   ]
  },
  {
   "cell_type": "code",
   "execution_count": 23,
   "metadata": {
    "collapsed": true
   },
   "outputs": [],
   "source": [
    "airline_airport_delay=data.select('AIRLINE','ORIGIN_AIRPORT','DEPARTURE_DELAY')\n",
    "airline_airport_delay_sample=airline_airport_delay.sample(False, 0.1,0).toPandas()\n",
    "airline_airport_avgDelay=airline_airport_delay_sample.groupby(['ORIGIN_AIRPORT','AIRLINE'])['DEPARTURE_DELAY'].mean().reset_index(name='mean')"
   ]
  },
  {
   "cell_type": "code",
   "execution_count": 24,
   "metadata": {},
   "outputs": [
    {
     "data": {
      "image/png": "[encoded data removed]",
      "text/plain": [
       "<matplotlib.figure.Figure at 0x7fd79d3b02d0>"
      ]
     },
     "metadata": {},
     "output_type": "display_data"
    }
   ],
   "source": [
    "airline_airport_avgDelay.plot.bar()\n",
    "# plt.savefig('./figures/airline_delay.png',dpi=200)\n",
    "plt.show()"
   ]
  },
  {
   "cell_type": "markdown",
   "metadata": {},
   "source": [
    "### Analysis: airport classification"
   ]
  },
  {
   "cell_type": "code",
   "execution_count": 62,
   "metadata": {
    "collapsed": true
   },
   "outputs": [],
   "source": [
    "whole_data=spark.read.csv('./data/whole_flight_data.csv',header=True,inferSchema=True)"
   ]
  },
  {
   "cell_type": "code",
   "execution_count": null,
   "metadata": {
    "collapsed": true
   },
   "outputs": [],
   "source": []
  },
  {
   "cell_type": "code",
   "execution_count": 142,
   "metadata": {},
   "outputs": [],
   "source": [
    "import pyspark.sql.functions as func\n",
    "airport_analysis=whole_data.select('ORIGIN_AIRPORT','DESTINATION_AIRPORT','DEPARTURE_DELAY')\n",
    "airport_analysis_pd1=airport_analysis.groupby('ORIGIN_AIRPORT')\\\n",
    "                .agg(func.countDistinct('DESTINATION_AIRPORT'),func.avg('DEPARTURE_DELAY'))\\\n",
    "                .toPandas()\n",
    "#                 .show()\n",
    "# airport_analysis_pd.plot.scatter('count(DESTINATION_AIRPORT)','avg(DEPARTURE_DELAY)')"
   ]
  },
  {
   "cell_type": "code",
   "execution_count": 130,
   "metadata": {},
   "outputs": [],
   "source": [
    "airport_analysis_pd2=airport_analysis.groupby('DESTINATION_AIRPORT')\\\n",
    "                .agg(func.count('ORIGIN_AIRPORT'),func.avg('DEPARTURE_DELAY'))\\\n",
    "                .toPandas()"
   ]
  },
  {
   "cell_type": "code",
   "execution_count": 143,
   "metadata": {},
   "outputs": [
    {
     "data": {
      "text/html": [
       "<div>\n",
       "<style>\n",
       "    .dataframe thead tr:only-child th {\n",
       "        text-align: right;\n",
       "    }\n",
       "\n",
       "    .dataframe thead th {\n",
       "        text-align: left;\n",
       "    }\n",
       "\n",
       "    .dataframe tbody tr th {\n",
       "        vertical-align: top;\n",
       "    }\n",
       "</style>\n",
       "<table border=\"1\" class=\"dataframe\">\n",
       "  <thead>\n",
       "    <tr style=\"text-align: right;\">\n",
       "      <th></th>\n",
       "      <th>ORIGIN_AIRPORT</th>\n",
       "      <th>count(DISTINCT DESTINATION_AIRPORT)</th>\n",
       "      <th>avg(DEPARTURE_DELAY)</th>\n",
       "    </tr>\n",
       "  </thead>\n",
       "  <tbody>\n",
       "    <tr>\n",
       "      <th>0</th>\n",
       "      <td>BGM</td>\n",
       "      <td>1</td>\n",
       "      <td>10.610039</td>\n",
       "    </tr>\n",
       "    <tr>\n",
       "      <th>1</th>\n",
       "      <td>DLG</td>\n",
       "      <td>1</td>\n",
       "      <td>0.558442</td>\n",
       "    </tr>\n",
       "    <tr>\n",
       "      <th>2</th>\n",
       "      <td>PSE</td>\n",
       "      <td>2</td>\n",
       "      <td>2.734417</td>\n",
       "    </tr>\n",
       "    <tr>\n",
       "      <th>3</th>\n",
       "      <td>INL</td>\n",
       "      <td>3</td>\n",
       "      <td>4.314748</td>\n",
       "    </tr>\n",
       "    <tr>\n",
       "      <th>4</th>\n",
       "      <td>MSY</td>\n",
       "      <td>38</td>\n",
       "      <td>8.651442</td>\n",
       "    </tr>\n",
       "    <tr>\n",
       "      <th>5</th>\n",
       "      <td>PPG</td>\n",
       "      <td>1</td>\n",
       "      <td>15.179245</td>\n",
       "    </tr>\n",
       "    <tr>\n",
       "      <th>6</th>\n",
       "      <td>GEG</td>\n",
       "      <td>10</td>\n",
       "      <td>4.934428</td>\n",
       "    </tr>\n",
       "    <tr>\n",
       "      <th>7</th>\n",
       "      <td>SNA</td>\n",
       "      <td>22</td>\n",
       "      <td>6.511605</td>\n",
       "    </tr>\n",
       "    <tr>\n",
       "      <th>8</th>\n",
       "      <td>BUR</td>\n",
       "      <td>11</td>\n",
       "      <td>5.978842</td>\n",
       "    </tr>\n",
       "    <tr>\n",
       "      <th>9</th>\n",
       "      <td>GRB</td>\n",
       "      <td>4</td>\n",
       "      <td>4.483686</td>\n",
       "    </tr>\n",
       "  </tbody>\n",
       "</table>\n",
       "</div>"
      ],
      "text/plain": [
       "  ORIGIN_AIRPORT  count(DISTINCT DESTINATION_AIRPORT)  avg(DEPARTURE_DELAY)\n",
       "0            BGM                                    1             10.610039\n",
       "1            DLG                                    1              0.558442\n",
       "2            PSE                                    2              2.734417\n",
       "3            INL                                    3              4.314748\n",
       "4            MSY                                   38              8.651442\n",
       "5            PPG                                    1             15.179245\n",
       "6            GEG                                   10              4.934428\n",
       "7            SNA                                   22              6.511605\n",
       "8            BUR                                   11              5.978842\n",
       "9            GRB                                    4              4.483686"
      ]
     },
     "execution_count": 143,
     "metadata": {},
     "output_type": "execute_result"
    }
   ],
   "source": [
    "airport_analysis_pd1.head(10)\n",
    "# airport_analysis_pd2.head(10)"
   ]
  },
  {
   "cell_type": "code",
   "execution_count": 100,
   "metadata": {},
   "outputs": [
    {
     "data": {
      "image/png": "[encoded data removed]",
      "text/plain": [
       "<matplotlib.figure.Figure at 0x7fca906b92d0>"
      ]
     },
     "metadata": {},
     "output_type": "display_data"
    }
   ],
   "source": [
    "airport_analysis_pd2.plot.scatter('count(ORIGIN_AIRPORT)','avg(DEPARTURE_DELAY)')\n",
    "plt.show()"
   ]
  },
  {
   "cell_type": "code",
   "execution_count": 144,
   "metadata": {},
   "outputs": [
    {
     "data": {
      "text/html": [
       "<div>\n",
       "<style>\n",
       "    .dataframe thead tr:only-child th {\n",
       "        text-align: right;\n",
       "    }\n",
       "\n",
       "    .dataframe thead th {\n",
       "        text-align: left;\n",
       "    }\n",
       "\n",
       "    .dataframe tbody tr th {\n",
       "        vertical-align: top;\n",
       "    }\n",
       "</style>\n",
       "<table border=\"1\" class=\"dataframe\">\n",
       "  <thead>\n",
       "    <tr style=\"text-align: right;\">\n",
       "      <th></th>\n",
       "      <th>count(DISTINCT DESTINATION_AIRPORT)</th>\n",
       "      <th>avg(DEPARTURE_DELAY)</th>\n",
       "    </tr>\n",
       "  </thead>\n",
       "  <tbody>\n",
       "    <tr>\n",
       "      <th>count(DISTINCT DESTINATION_AIRPORT)</th>\n",
       "      <td>1.000000</td>\n",
       "      <td>0.245193</td>\n",
       "    </tr>\n",
       "    <tr>\n",
       "      <th>avg(DEPARTURE_DELAY)</th>\n",
       "      <td>0.245193</td>\n",
       "      <td>1.000000</td>\n",
       "    </tr>\n",
       "  </tbody>\n",
       "</table>\n",
       "</div>"
      ],
      "text/plain": [
       "                                     count(DISTINCT DESTINATION_AIRPORT)  \\\n",
       "count(DISTINCT DESTINATION_AIRPORT)                             1.000000   \n",
       "avg(DEPARTURE_DELAY)                                            0.245193   \n",
       "\n",
       "                                     avg(DEPARTURE_DELAY)  \n",
       "count(DISTINCT DESTINATION_AIRPORT)              0.245193  \n",
       "avg(DEPARTURE_DELAY)                             1.000000  "
      ]
     },
     "execution_count": 144,
     "metadata": {},
     "output_type": "execute_result"
    }
   ],
   "source": [
    "airport_analysis_pd1[['count(DISTINCT DESTINATION_AIRPORT)','avg(DEPARTURE_DELAY)']].corr()"
   ]
  },
  {
   "cell_type": "code",
   "execution_count": 129,
   "metadata": {},
   "outputs": [
    {
     "name": "stdout",
     "output_type": "stream",
     "text": [
      "DenseMatrix([[ 1.        ,  0.05564149,         NaN,  0.40047142],\n",
      "             [ 0.05564149,  1.        ,         NaN,  0.91359586],\n",
      "             [        NaN,         NaN,  1.        ,         NaN],\n",
      "             [ 0.40047142,  0.91359586,         NaN,  1.        ]])\n",
      "DenseMatrix([[ 1.        ,  0.10540926,         NaN,  0.4       ],\n",
      "             [ 0.10540926,  1.        ,         NaN,  0.9486833 ],\n",
      "             [        NaN,         NaN,  1.        ,         NaN],\n",
      "             [ 0.4       ,  0.9486833 ,         NaN,  1.        ]])\n"
     ]
    }
   ],
   "source": [
    "from pyspark.ml.linalg import Vectors\n",
    "from pyspark.ml.stat import Correlation\n",
    "dataset = [[Vectors.dense([1, 0, 0, -2])],\n",
    "            [Vectors.dense([4, 5, 0, 3])],\n",
    "            [Vectors.dense([6, 7, 0, 8])],\n",
    "           [Vectors.dense([9, 0, 0, 1])]]\n",
    "dataset = spark.createDataFrame(dataset, ['features'])\n",
    "pearsonCorr = Correlation.corr(dataset, 'features', 'pearson').collect()[0][0]\n",
    "print(str(pearsonCorr).replace('nan', 'NaN'))\n",
    "\n",
    "spearmanCorr = Correlation.corr(dataset, 'features', method='spearman').collect()[0][0]\n",
    "print(str(spearmanCorr).replace('nan', 'NaN'))"
   ]
  }
 ],
 "metadata": {
  "kernelspec": {
   "display_name": "Python 2",
   "language": "python",
   "name": "python2"
  },
  "language_info": {
   "codemirror_mode": {
    "name": "ipython",
    "version": 2
   },
   "file_extension": ".py",
   "mimetype": "text/x-python",
   "name": "python",
   "nbconvert_exporter": "python",
   "pygments_lexer": "ipython2",
   "version": "2.7.13"
  }
 },
 "nbformat": 4,
 "nbformat_minor": 2
}
